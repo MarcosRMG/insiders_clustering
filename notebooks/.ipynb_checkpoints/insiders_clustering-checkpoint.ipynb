{
 "cells": [
  {
   "cell_type": "markdown",
   "id": "773ee73f",
   "metadata": {},
   "source": [
    "# Business Challange"
   ]
  },
  {
   "cell_type": "markdown",
   "id": "938cbe8e",
   "metadata": {},
   "source": [
    "In order to increase sales frequency, the All In One Place company needs to determine who are eligible customers to participate in the Insiders loyalty program."
   ]
  },
  {
   "cell_type": "markdown",
   "id": "fc80b6aa",
   "metadata": {},
   "source": [
    "## Solution Planning (IoT) "
   ]
  },
  {
   "cell_type": "markdown",
   "id": "6bae7a53",
   "metadata": {},
   "source": [
    "### Input"
   ]
  },
  {
   "cell_type": "markdown",
   "id": "abc7bb3b",
   "metadata": {},
   "source": [
    "<font size=4.5>1. Business Problem</font>\n",
    "    - Definition of the clients who will be part of the insiders program.\n",
    "\n",
    "<font size=4.5>2. Business Questions</font>\n",
    "\n",
    "    - Who are the people eligible to participate in the Insiders program?\n",
    "    - How many customers will be part of the group?\n",
    "    - What are the main characteristics of these customers?\n",
    "    - What is the contribution percentage of the billing, coming from Insiders?\n",
    "    - What is this group's revenue expectation for the coming months?\n",
    "    - What are the conditions for a person to be eligible for Insiders?\n",
    "    - What are the conditions for a person to be removed from Insiders?\n",
    "    - What is the guarantee that the Insiders program is better than the rest of the base?\n",
    "    - What actions can the marketing team take to increase revenue?\n",
    "\n",
    "<font size=4.5>3. Dataset</font>\n",
    "\n",
    "**Invoice No:** Invoice number (A 6-digit integral number uniquely assigned to each transaction)\n",
    "\n",
    "**Stock Code:** Product (item) code\n",
    "\n",
    "**Description:** Product (item) name\n",
    "\n",
    "**Quantity:** The quantities of each product (item) per transaction\n",
    "\n",
    "**Invoice Date:** The day when each transaction was generated\n",
    "\n",
    "**Unit Price:** Unit price (Product price per unit)\n",
    "\n",
    "**Customer ID:** Customer number (Unique ID assigned to each customer)\n",
    "\n",
    "**Country:** Country name (The name of the country where each customer resides)"
   ]
  },
  {
   "cell_type": "markdown",
   "id": "8fbc99c3",
   "metadata": {},
   "source": [
    "### Output"
   ]
  },
  {
   "cell_type": "markdown",
   "id": "afff61e0",
   "metadata": {},
   "source": [
    "1. Model that indicate what cluster the customer are, and the attributes of the cluster\n",
    "\n",
    "    customer id | cluster\n",
    "         01         1\n",
    "         02         1\n",
    "         03         2\n",
    "         04         3\n",
    "         05         1\n",
    "         \n",
    "2. Report with business questions."
   ]
  },
  {
   "cell_type": "markdown",
   "id": "5d29eb06",
   "metadata": {},
   "source": [
    "### Tasks"
   ]
  },
  {
   "cell_type": "markdown",
   "id": "730550dd",
   "metadata": {},
   "source": [
    "1. Data Description\n",
    "2. Feature Engineering\n",
    "3. EDA\n",
    "4. Feature Selection\n",
    "5. Data Preparation\n",
    "6. Machine Learning Model\n",
    "7. Cluster Profile\n",
    "8. Deploy"
   ]
  },
  {
   "cell_type": "markdown",
   "id": "3f4e31a1",
   "metadata": {},
   "source": [
    "# Enviroment Development"
   ]
  },
  {
   "cell_type": "markdown",
   "id": "f07c5de9",
   "metadata": {},
   "source": [
    "# Data Description"
   ]
  },
  {
   "cell_type": "markdown",
   "id": "e5988d12",
   "metadata": {},
   "source": [
    "# Feature Engineering"
   ]
  },
  {
   "cell_type": "markdown",
   "id": "9711a9d0",
   "metadata": {},
   "source": [
    "# Exploratory Data Analysis"
   ]
  },
  {
   "cell_type": "markdown",
   "id": "05b4db71",
   "metadata": {},
   "source": [
    "# Feature Selection"
   ]
  },
  {
   "cell_type": "markdown",
   "id": "1705c5d0",
   "metadata": {},
   "source": [
    "# Data Preparation"
   ]
  },
  {
   "cell_type": "markdown",
   "id": "304906f5",
   "metadata": {},
   "source": [
    "# Machine Learning Model"
   ]
  },
  {
   "cell_type": "markdown",
   "id": "fb6e9e92",
   "metadata": {},
   "source": [
    "# Cluster Profile"
   ]
  },
  {
   "cell_type": "markdown",
   "id": "1d0da89a",
   "metadata": {},
   "source": [
    "# Deploy"
   ]
  }
 ],
 "metadata": {
  "hide_input": false,
  "kernelspec": {
   "display_name": "Python 3 (ipykernel)",
   "language": "python",
   "name": "python3"
  },
  "language_info": {
   "codemirror_mode": {
    "name": "ipython",
    "version": 3
   },
   "file_extension": ".py",
   "mimetype": "text/x-python",
   "name": "python",
   "nbconvert_exporter": "python",
   "pygments_lexer": "ipython3",
   "version": "3.8.10"
  },
  "toc": {
   "base_numbering": 1,
   "nav_menu": {},
   "number_sections": true,
   "sideBar": true,
   "skip_h1_title": false,
   "title_cell": "Table of Contents",
   "title_sidebar": "Contents",
   "toc_cell": false,
   "toc_position": {
    "height": "calc(100% - 180px)",
    "left": "10px",
    "top": "150px",
    "width": "307.2px"
   },
   "toc_section_display": true,
   "toc_window_display": true
  }
 },
 "nbformat": 4,
 "nbformat_minor": 5
}
